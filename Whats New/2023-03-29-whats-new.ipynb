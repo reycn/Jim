{
 "cells": [
  {
   "cell_type": "markdown",
   "id": "32486572-35F3-4470-ADAE-F8D00AA5732A",
   "metadata": {},
   "outputs": [],
   "source": [
    "# ✨ What's new — March 23rd"
   ]
  },
  {
   "cell_type": "markdown",
   "id": "F524F659-8A74-4523-B2EB-A140A34B545D",
   "metadata": {},
   "outputs": [],
   "source": [
    "## 🚀 Markdown\n",
    "\n",
    "**Bold**, _italics_, `code`.\n",
    "\n",
    "```\n",
    "# code blocks\n",
    "```\n",
    "\n",
    "Horizontal rules:\n",
    "\n",
    "---\n",
    "\n",
    "Quotes:\n",
    "\n",
    "> Yay\n",
    "\n",
    "And lists (see below)!"
   ]
  },
  {
   "cell_type": "markdown",
   "id": "6517C658-355D-4156-9282-772DC727D56D",
   "metadata": {},
   "outputs": [],
   "source": [
    "## 🛠️ Toolbar\n",
    "\n",
    "- Create cell\n",
    "- Cut cell\n",
    "- Copy cell\n",
    "- Paste cell\n",
    "- Move cell up\n",
    "- Move cell down\n",
    "- Run cell\n",
    "- Stop running cell\n",
    "- Restart kernel\n",
    "- Run all cells\n",
    "- Set cell type"
   ]
  },
  {
   "cell_type": "markdown",
   "id": "55349766-D6DA-4BD1-9983-7C5CC13922A3",
   "metadata": {},
   "outputs": [],
   "source": [
    "## 🎨 UI\n",
    "\n",
    "- Improved tons of small interactions & styling!"
   ]
  },
  {
   "cell_type": "markdown",
   "id": "6FE8FAD1-FA90-4618-BB29-EE6EC7530D99",
   "metadata": {},
   "outputs": [],
   "source": [
    "## ✅ Misc.\n",
    "\n",
    "- Added support for key sequences, like `i i` to interrupt kernel\n",
    "- Fixed delay before entering edit mode"
   ]
  }
 ],
 "metadata": {
  "kernelspec": {
   "display_name": "python3",
   "language": "python",
   "name": "python3"
  }
 },
 "nbformat": 4,
 "nbformat_minor": 5
}
